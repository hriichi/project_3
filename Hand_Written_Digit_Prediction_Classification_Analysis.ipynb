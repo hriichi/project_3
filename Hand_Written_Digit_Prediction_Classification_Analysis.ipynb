{
  "nbformat": 4,
  "nbformat_minor": 0,
  "metadata": {
    "colab": {
      "provenance": [],
      "authorship_tag": "ABX9TyMLK0XaYbzB8tRCOzlR51R3",
      "include_colab_link": true
    },
    "kernelspec": {
      "name": "python3",
      "display_name": "Python 3"
    },
    "language_info": {
      "name": "python"
    }
  },
  "cells": [
    {
      "cell_type": "markdown",
      "metadata": {
        "id": "view-in-github",
        "colab_type": "text"
      },
      "source": [
        "<a href=\"https://colab.research.google.com/github/hriichi/project_3/blob/main/Hand_Written_Digit_Prediction_Classification_Analysis.ipynb\" target=\"_parent\"><img src=\"https://colab.research.google.com/assets/colab-badge.svg\" alt=\"Open In Colab\"/></a>"
      ]
    },
    {
      "cell_type": "markdown",
      "source": [
        "**Title of Project: Handwritten Digit Prediction using Support Vector Classifier**\n",
        "\n",
        "Objective:\n",
        "To build a machine learning model that accurately predicts handwritten digits using a Support Vector Classifier.\n",
        "\n",
        "Data Source:\n",
        "The dataset used for this project is the built-in digits dataset available in the scikit-learn library.\n",
        "\n",
        "Import Library:"
      ],
      "metadata": {
        "id": "YJcHNKFeWrKG"
      }
    },
    {
      "cell_type": "code",
      "source": [
        "import numpy as np\n",
        "import matplotlib.pyplot as plt\n",
        "from sklearn.datasets import load_digits\n",
        "from sklearn.model_selection import train_test_split\n",
        "from sklearn.preprocessing import StandardScaler\n",
        "from sklearn.svm import SVC\n",
        "from sklearn.metrics import accuracy_score, classification_report, confusion_matrix"
      ],
      "metadata": {
        "id": "1bfNByfzWzTS"
      },
      "execution_count": null,
      "outputs": []
    },
    {
      "cell_type": "markdown",
      "source": [
        "Import Data:\n"
      ],
      "metadata": {
        "id": "sVFvNPZ6W1IU"
      }
    },
    {
      "cell_type": "code",
      "source": [
        "# Load the digits dataset\n",
        "digits = load_digits()"
      ],
      "metadata": {
        "id": "NKoySQOeW3yM"
      },
      "execution_count": null,
      "outputs": []
    },
    {
      "cell_type": "markdown",
      "source": [
        "Describe Data:\n",
        "The digits dataset contains 8x8 pixel images of handwritten digits along with their corresponding labels.\n",
        "\n",
        "Data Visualization:\n",
        "Visualizing the dataset can help understand the structure and characteristics of the data. However, since the dataset consists of images, visualizing the images can be helpful."
      ],
      "metadata": {
        "id": "diN2EFUNW6II"
      }
    },
    {
      "cell_type": "code",
      "source": [
        "# Visualize sample images from the dataset\n",
        "plt.figure(figsize=(10, 8))\n",
        "for i in range(10):\n",
        "    plt.subplot(2, 5, i + 1)\n",
        "    plt.imshow(digits.images[i], cmap='gray')\n",
        "    plt.title(f\"Label: {digits.target[i]}\")\n",
        "    plt.axis('off')\n",
        "plt.show()"
      ],
      "metadata": {
        "id": "o02v3xm7W9Y_"
      },
      "execution_count": null,
      "outputs": []
    },
    {
      "cell_type": "markdown",
      "source": [
        "Data Preprocessing:\n",
        "Before training the model, it's essential to preprocess the data. In this case, we'll standardize the features."
      ],
      "metadata": {
        "id": "eE9C7ukwW_JI"
      }
    },
    {
      "cell_type": "code",
      "source": [
        "# Split the data into features (X) and target (y)\n",
        "X = digits.data\n",
        "y = digits.target\n",
        "\n",
        "# Standardize the features\n",
        "scaler = StandardScaler()\n",
        "X_scaled = scaler.fit_transform(X)"
      ],
      "metadata": {
        "id": "95MlPxnhXBk2"
      },
      "execution_count": null,
      "outputs": []
    },
    {
      "cell_type": "markdown",
      "source": [
        "Define Target Variable (y) and Feature Variables (X):\n",
        "\n",
        "~Target Variable (y): 'target' column\n",
        "~Feature Variables (X): 'data' column\n",
        "\n",
        "Train Test Split:"
      ],
      "metadata": {
        "id": "u1Rcw212XDlW"
      }
    },
    {
      "cell_type": "code",
      "source": [
        "# Split the data into training and testing sets\n",
        "X_train, X_test, y_train, y_test = train_test_split(X_scaled, y, test_size=0.2, random_state=42)"
      ],
      "metadata": {
        "id": "PxV1NVMUXWnr"
      },
      "execution_count": null,
      "outputs": []
    },
    {
      "cell_type": "markdown",
      "source": [
        "Modeling:\n"
      ],
      "metadata": {
        "id": "HLmCS0USXYXX"
      }
    },
    {
      "cell_type": "code",
      "source": [
        "# Initialize and train the Support Vector Classifier (SVC)\n",
        "clf = SVC(kernel='rbf', gamma='scale', random_state=42)\n",
        "clf.fit(X_train, y_train)"
      ],
      "metadata": {
        "id": "tIARdsxpXZ9u"
      },
      "execution_count": null,
      "outputs": []
    },
    {
      "cell_type": "markdown",
      "source": [
        "Model Evaluation:"
      ],
      "metadata": {
        "id": "ud5vea1kXb49"
      }
    },
    {
      "cell_type": "code",
      "source": [
        "# Make predictions\n",
        "y_pred = clf.predict(X_test)\n",
        "\n",
        "# Evaluate the model\n",
        "accuracy = accuracy_score(y_test, y_pred)\n",
        "print(f\"Accuracy: {accuracy}\")\n",
        "\n",
        "# Classification report\n",
        "print(\"Classification Report:\")\n",
        "print(classification_report(y_test, y_pred))\n",
        "\n",
        "# Confusion matrix\n",
        "print(\"Confusion Matrix:\")\n",
        "print(confusion_matrix(y_test, y_pred))"
      ],
      "metadata": {
        "id": "hW0Kxf0dXeP1"
      },
      "execution_count": null,
      "outputs": []
    },
    {
      "cell_type": "markdown",
      "source": [
        "Prediction:\n",
        "No explicit prediction step is needed as the model was already evaluated on the test set.\n",
        "\n",
        "Explanation:\n",
        "The project aimed to predict handwritten digits using a Support Vector Classifier. The dataset used for this purpose was the built-in digits dataset available in the scikit-learn library. The data was preprocessed, split into training and testing sets, and a Support Vector Classifier was trained on the training data. The model's performance was evaluated using accuracy score, classification report, and confusion matrix."
      ],
      "metadata": {
        "id": "xk1xS3K6XgHB"
      }
    }
  ]
}